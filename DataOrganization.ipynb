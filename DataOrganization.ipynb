import pandas as pd
from pathlib import Path
import os

data_file_folder = '' #Excel folder path
df = []
for file in os.listdir(data_file_folder):
    if file.endswith('.xlsx'):
        print('Loading file {0}...'.format(file))
        df.append(pd.read_excel(os.path.join(data_file_folder, file), nrows=8))
    
        
       
        
      


df_master = pd.concat(df)
df_master.to_excel('the target excel file path is collection data', index=False)
